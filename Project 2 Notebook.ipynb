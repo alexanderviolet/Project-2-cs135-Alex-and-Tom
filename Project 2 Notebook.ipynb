{
 "cells": [
  {
   "cell_type": "markdown",
   "id": "9c86c0e9",
   "metadata": {},
   "source": [
    "# Tom and Alex Violet Project 2\n",
    "# April 13, 2025\n",
    "\n"
   ]
  },
  {
   "cell_type": "code",
   "execution_count": 73,
   "id": "65ea1118",
   "metadata": {},
   "outputs": [],
   "source": [
    "import matplotlib.pyplot as plt\n",
    "from CollabFilterOneVectorPerItem import CollabFilterOneVectorPerItem\n",
    "from train_valid_test_loader import load_train_valid_test_datasets\n",
    "\n",
    "import autograd\n",
    "import autograd.numpy as ag_np\n",
    "import numpy as np\n",
    "import pandas as pd\n",
    "import os\n",
    "\n",
    "import matplotlib.pyplot as plt\n",
    "import sklearn\n",
    "\n",
    "from surprise import SVD,KNNBasic,KNNWithZScore,KNNWithMeans,SlopeOne,CoClustering\n",
    "from surprise import Dataset, Reader, accuracy\n",
    "from surprise.model_selection import cross_validate\n",
    "from surprise import model_selection\n",
    "\n",
    "from surprise import SVD, SVDpp\n",
    "from surprise import Dataset, Reader\n",
    "from surprise.model_selection import RandomizedSearchCV\n",
    "\n",
    "from sklearn.neighrbors import NearestNeighors\n",
    "\n",
    "import matplotlib.pyplot as plt\n",
    "plt.style.use('seaborn-v0_8')"
   ]
  },
  {
   "cell_type": "code",
   "execution_count": 64,
   "id": "8fc32cb5",
   "metadata": {},
   "outputs": [
    {
     "name": "stdout",
     "output_type": "stream",
     "text": [
      "Global Mean:  3.529480398257623\n"
     ]
    }
   ],
   "source": [
    "# ------------------------------------------------------\n",
    "\n",
    "\n",
    "##LOADING DATA##\n",
    "reader = Reader(\n",
    "    line_format='user item rating', sep=',',\n",
    "    rating_scale=(1, 5), skip_lines=1)\n",
    "\n",
    "# train_data = Dataset.load_from_file(\n",
    "#     'data_movie_lens_100k/ratings_all_development_set.csv', reader=reader)\n",
    "# # print(train_set[:5])\n",
    "# train_set = train_data.build_full_trainset()\n",
    "# raw_ratings = train_set.build_testset()\n",
    "\n",
    "\n",
    "#MAKING MERGE DATA FRAME\n",
    "df = pd.read_csv('data_movie_lens_100k/ratings_all_development_set.csv')\n",
    "user_df = pd.read_csv('data_movie_lens_100k/user_info.csv')\n",
    "movie_df = pd.read_csv('data_movie_lens_100k/movie_info.csv')\n",
    "merged_df = pd.merge(df, user_df, on='user_id', how='inner')\n",
    "merged_df = merged_df.drop(columns=['orig_user_id'])\n",
    "merged_movie_df = pd.merge(merged_df, movie_df, on='item_id', how='inner')\n",
    "\n",
    "\n",
    "\n",
    "# user_df = pd.read_csv('data_movie_lens_100k/user_info.csv')'\n",
    "# print(merged_movie_df[:100])\n",
    "# data = Dataset.load_from_df(df[['user_id', 'item_id', 'rating']], reader)\n",
    "\n",
    "\n",
    "\n",
    "DATA_PATH = 'data_movie_lens_100k/' # TODO fixme: Path to where dataset csv files live on your system\n",
    "if not os.path.exists(os.path.join(DATA_PATH, 'select_movies.csv')):\n",
    "    try:\n",
    "        DATA_PATH = os.path.join(os.environ.get(\"HOME\", \"\"),\n",
    "                    'courses/cs135-25s-staffonly/proj_src/projB/data_movie_lens_100k/')\n",
    "        assert os.path.exists(os.path.join(DATA_PATH, 'select_movies.csv'))\n",
    "    except AssertionError:\n",
    "        print(\"Please store path to movie_lens_100k dataset in DATA_PATH\")\n",
    "assert os.path.exists(os.path.join(DATA_PATH, 'select_movies.csv'))\n",
    "\n",
    "\n",
    "df_masked = pd.read_csv(\"data_movie_lens_100k/ratings_masked_leaderboard_set.csv\")\n",
    "\n",
    "df_masked['user_id'] = df_masked['user_id'].astype(str)\n",
    "df_masked['item_id'] = df_masked['item_id'].astype(str)\n",
    "df_masked['rating'] = 0\n",
    "\n",
    "\n",
    "# Create a list of (uid, iid) pairs\n",
    "predict_pairs = list(zip(df_masked['user_id'], df_masked['item_id'],df_masked['rating']))\n",
    "\n",
    "\n",
    "dev_set = Dataset.load_from_file(\n",
    "   os.path.join(DATA_PATH, 'ratings_all_development_set.csv'), reader=reader)\n",
    "dev_set_for_fit = dev_set.build_full_trainset()\n",
    "dev_set_for_predict = dev_set_for_fit.build_testset()\n",
    "dev_set_for_fit.global_mean\n",
    "\n",
    "print(\"Global Mean: \", dev_set_for_fit.global_mean)\n"
   ]
  },
  {
   "cell_type": "code",
   "execution_count": null,
   "id": "61039aae",
   "metadata": {},
   "outputs": [],
   "source": [
    "##TRAINING##---------------------------------------\n",
    "\n",
    "# SVD\n",
    "\n",
    "# param_grid = {\n",
    "#     # \"n_factors\": [20, 50, 100],        # Latent dimensions (embedding size)\n",
    "#     # \"lr_all\": [0.002, 0.005, 0.01],    # Learning rate for all parameters\n",
    "#     # \"reg_all\": [0.02, 0.05, 0.1],      # Regularization term for all parameters\n",
    "#     # \"n_epochs\": [10, 20, 30]\n",
    "#     \"n_factors\": [100],        # Latent dimensions (embedding size)\n",
    "#     \"lr_all\": [0.01],    # Learning rate for all parameters\n",
    "#     \"reg_all\": [0.1],      # Regularization term for all parameters\n",
    "#     \"n_epochs\": [30]          # Number of SGD iterations\n",
    "# }\n",
    "# model = model_selection.search.RandomizedSearchCV(SVDpp, param_grid, n_iter=1, measures=['mae'], refit=True, n_jobs=-1)\n",
    "# model.fit(dev_set) \n",
    "# print(\"Lowest MAE: \", model.best_score['mae'])\n",
    "# print(\"Best params:\", model.best_params['mae'])\n",
    "# best_model = model.best_estimator['mae']\n",
    "# best_model.fit(dev_set_for_fit)\n",
    "\n",
    "##TRAIN AND FIT\n",
    "# best_model = SVDpp(n_factors=100, lr_all=0.01, reg_all=0.1, n_epochs=30)\n",
    "# best_model.fit(dev_set_for_fit)\n"
   ]
  },
  {
   "cell_type": "code",
   "execution_count": 66,
   "id": "f5da1221",
   "metadata": {},
   "outputs": [
    {
     "name": "stderr",
     "output_type": "stream",
     "text": [
      "/Users/tomzhou/micromamba/envs/cs135_25s_env/lib/python3.11/site-packages/joblib/externals/loky/process_executor.py:752: UserWarning: A worker stopped while some jobs were given to the executor. This can be caused by a too short worker timeout or by a memory leak.\n",
      "  warnings.warn(\n"
     ]
    },
    {
     "name": "stdout",
     "output_type": "stream",
     "text": [
      "None 3.5198781131099106\n",
      "None 4.29031920785755\n",
      "None 3.806859800586653\n",
      "None 3.672657170089098\n",
      "None 3.942898410883251\n",
      "None 4.329172982045815\n",
      "None 2.1810152072016886\n",
      "None 3.8409144167772253\n",
      "None 3.7887285572112375\n",
      "None 3.5911277618464172\n",
      "None 3.7855537153118766\n",
      "None 3.8099355532506207\n",
      "None 3.336980700997417\n",
      "None 4.847584586769668\n",
      "None 3.380682607008766\n",
      "None 3.0221416573124995\n",
      "None 2.729279484504305\n",
      "None 2.88329418277615\n",
      "None 3.847999268398846\n",
      "None 3.5942914889431496\n",
      "None 4.3083333653574165\n",
      "None 3.3273125939081165\n",
      "None 3.003300585003246\n",
      "None 2.6928257644570266\n",
      "None 2.4807780523026812\n"
     ]
    }
   ],
   "source": [
    "# KNN \n",
    "param_grid = {\n",
    "    'k': [30,40,50,60,70],\n",
    "    'sim_options': {\n",
    "        'name': ['cosine', 'pearson', 'pearson_baseline'],\n",
    "        'user_based': [True, False]  # True = user-user, False = item-item\n",
    "    },\n",
    "    'min_k': [1, 3, 5,10,50],\n",
    "    'verbose': [False]\n",
    "}\n",
    "model = model_selection.search.RandomizedSearchCV(KNNWithMeans, param_grid, n_iter=50, measures=['mae'], refit=True, n_jobs=-1)\n",
    "model.fit(dev_set) \n",
    "best_model = model.best_estimator['mae']\n",
    "best_model.fit(dev_set_for_fit)\n",
    "\n",
    "predictions = [best_model.predict(uid, iid) for (uid, iid, _) in predict_pairs]\n",
    "for i in range(25):\n",
    "    print(predictions[i][2],predictions[i][3])"
   ]
  },
  {
   "cell_type": "code",
   "execution_count": 67,
   "id": "b9c3a04a",
   "metadata": {},
   "outputs": [
    {
     "name": "stdout",
     "output_type": "stream",
     "text": [
      "{'mae': 0.7261871781900993}\n",
      "{'mae': {'k': 30, 'sim_options': {'name': 'pearson_baseline', 'user_based': False}, 'min_k': 1, 'verbose': False}}\n"
     ]
    }
   ],
   "source": [
    "##KNNBasic\n",
    "print(model.best_score)\n",
    "print(model.best_params)\n",
    "\n",
    "# print(model.cv_results)\n"
   ]
  },
  {
   "cell_type": "code",
   "execution_count": 70,
   "id": "46af7366",
   "metadata": {},
   "outputs": [
    {
     "name": "stdout",
     "output_type": "stream",
     "text": [
      "None 4.155567712121761\n",
      "None 3.9593949068610064\n",
      "None 3.4873950558271436\n",
      "None 3.4989646933203002\n",
      "None 4.103658957595336\n",
      "None 4.6563894142931215\n",
      "None 2.076563929967369\n",
      "None 3.7939755997580074\n",
      "None 4.318627531285854\n",
      "None 3.3033558372760172\n",
      "None 3.329969042231342\n",
      "None 3.863420532333943\n",
      "None 3.6117906928404495\n",
      "None 4.657285535380868\n",
      "None 3.267080817685785\n",
      "None 2.8693063370680068\n",
      "None 2.3377761942607522\n",
      "None 2.9527377580572245\n",
      "None 3.668507171756517\n",
      "None 3.6466174578502346\n",
      "None 4.433733655758613\n",
      "None 3.880831658697207\n",
      "None 2.7411188217195592\n",
      "None 3.384586968704414\n",
      "None 2.3213296198296103\n"
     ]
    }
   ],
   "source": [
    "# SlopeOne\n",
    "param_grid = {\n",
    "    # 'k': [30,40,50,60,70],\n",
    "    # 'sim_options': {\n",
    "    #     'name': ['cosine', 'pearson', 'pearson_baseline'],\n",
    "    #     'user_based': [True, False]  # True = user-user, False = item-item\n",
    "    # },\n",
    "    # 'min_k': [1, 3, 5,10,50],\n",
    "    # 'verbose': [False]\n",
    "}\n",
    "model = model_selection.search.RandomizedSearchCV(SlopeOne, param_grid, n_iter=1, measures=['mae'], refit=True, n_jobs=-1)\n",
    "model.fit(dev_set) \n",
    "best_model = model.best_estimator['mae']\n",
    "best_model.fit(dev_set_for_fit)\n",
    "\n",
    "predictions = [best_model.predict(uid, iid) for (uid, iid, _) in predict_pairs]\n",
    "for i in range(25):\n",
    "    print(predictions[i][2],predictions[i][3])"
   ]
  },
  {
   "cell_type": "code",
   "execution_count": 72,
   "id": "de704a12",
   "metadata": {},
   "outputs": [
    {
     "name": "stdout",
     "output_type": "stream",
     "text": [
      "{'mae': 0.7445032514566294}\n"
     ]
    }
   ],
   "source": [
    "##KNNWITHZSCORE\n",
    "print(model.best_score)"
   ]
  },
  {
   "cell_type": "code",
   "execution_count": 76,
   "id": "1cc0693e",
   "metadata": {},
   "outputs": [
    {
     "name": "stdout",
     "output_type": "stream",
     "text": [
      "None 3.7698338571965544\n",
      "None 4.281317591217826\n",
      "None 3.6332487936492712\n",
      "None 3.686945226948176\n",
      "None 3.999051374208355\n",
      "None 4.207190698755753\n",
      "None 1.8249087048347672\n",
      "None 3.885546056033921\n",
      "None 4.4091903363964775\n",
      "None 3.5130471892335415\n",
      "None 3.535182622567524\n",
      "None 3.699789167900948\n",
      "None 3.3523048042668617\n",
      "None 4.858192424094522\n",
      "None 3.5293492710014527\n",
      "None 2.771079287870912\n",
      "None 2.56969397777473\n",
      "None 2.7895301520230613\n",
      "None 3.6510267875395574\n",
      "None 3.666729955114779\n",
      "None 4.736645652336845\n",
      "None 3.742358965126709\n",
      "None 2.592809410363746\n",
      "None 3.0832562216431936\n",
      "None 2.6731205685805084\n"
     ]
    }
   ],
   "source": [
    "# CoClustering\n",
    "param_grid = {\n",
    "    'n_cltr_u': [1,3,5,10,20],\n",
    "    'n_cltr_i': [1,3,5,10,20],\n",
    "    'n_epochs': [10,20,50,100,500],\n",
    "\n",
    "}\n",
    "model = model_selection.search.RandomizedSearchCV(CoClustering, param_grid, n_iter=40, measures=['mae'], refit=True, n_jobs=-1)\n",
    "model.fit(dev_set) \n",
    "best_model = model.best_estimator['mae']\n",
    "best_model.fit(dev_set_for_fit)\n",
    "\n",
    "predictions = [best_model.predict(uid, iid) for (uid, iid, _) in predict_pairs]\n",
    "for i in range(25):\n",
    "    print(predictions[i][2],predictions[i][3])"
   ]
  },
  {
   "cell_type": "code",
   "execution_count": 77,
   "id": "c9a99dfc",
   "metadata": {},
   "outputs": [
    {
     "name": "stdout",
     "output_type": "stream",
     "text": [
      "{'mae': 0.7494713730975355}\n"
     ]
    }
   ],
   "source": [
    "##KNNWITHMEAN\n",
    "print(model.best_score)"
   ]
  },
  {
   "cell_type": "code",
   "execution_count": null,
   "id": "17ac604e",
   "metadata": {},
   "outputs": [],
   "source": [
    "ratings_only = [pred[3] for pred in predictions]  # extract just the ratings\n",
    "ratings_only = np.array(ratings_only, dtype=float)\n",
    "np.savetxt(\"predicted_ratings_leaderboard.txt\", ratings_only, fmt=\"%.6f\")\n"
   ]
  }
 ],
 "metadata": {
  "kernelspec": {
   "display_name": "Python 3 (ipykernel)",
   "language": "python",
   "name": "python3"
  },
  "language_info": {
   "codemirror_mode": {
    "name": "ipython",
    "version": 3
   },
   "file_extension": ".py",
   "mimetype": "text/x-python",
   "name": "python",
   "nbconvert_exporter": "python",
   "pygments_lexer": "ipython3",
   "version": "3.11.11"
  }
 },
 "nbformat": 4,
 "nbformat_minor": 5
}
