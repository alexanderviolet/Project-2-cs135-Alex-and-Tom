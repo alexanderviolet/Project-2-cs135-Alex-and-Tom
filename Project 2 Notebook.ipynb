{
 "cells": [
  {
   "cell_type": "markdown",
   "id": "9c86c0e9",
   "metadata": {},
   "source": [
    "# Tom and Alex Violet Project 2\n",
    "# April 13, 2025\n",
    "\n"
   ]
  },
  {
   "cell_type": "code",
   "execution_count": 18,
   "id": "65ea1118",
   "metadata": {},
   "outputs": [],
   "source": [
    "import matplotlib.pyplot as plt\n",
    "from CollabFilterOneVectorPerItem import CollabFilterOneVectorPerItem\n",
    "from train_valid_test_loader import load_train_valid_test_datasets\n",
    "\n",
    "import autograd\n",
    "import autograd.numpy as ag_np\n",
    "import numpy as np\n",
    "import pandas as pd\n",
    "import os\n",
    "\n",
    "import matplotlib.pyplot as plt\n",
    "import sklearn\n",
    "\n",
    "from surprise import SVD,KNNBasic,KNNWithZScore,KNNWithMeans\n",
    "from surprise import Dataset, Reader, accuracy\n",
    "from surprise.model_selection import cross_validate\n",
    "from surprise import model_selection\n",
    "\n",
    "from surprise import SVD, SVDpp\n",
    "from surprise import Dataset, Reader\n",
    "from surprise.model_selection import RandomizedSearchCV\n",
    "import matplotlib.pyplot as plt\n",
    "plt.style.use('seaborn-v0_8')"
   ]
  },
  {
   "cell_type": "code",
   "execution_count": 2,
   "id": "8fc32cb5",
   "metadata": {},
   "outputs": [
    {
     "name": "stdout",
     "output_type": "stream",
     "text": [
      "Global Mean:  3.529480398257623\n"
     ]
    }
   ],
   "source": [
    "# ------------------------------------------------------\n",
    "\n",
    "\n",
    "##LOADING DATA##\n",
    "reader = Reader(\n",
    "    line_format='user item rating', sep=',',\n",
    "    rating_scale=(1, 5), skip_lines=1)\n",
    "\n",
    "# train_data = Dataset.load_from_file(\n",
    "#     'data_movie_lens_100k/ratings_all_development_set.csv', reader=reader)\n",
    "# # print(train_set[:5])\n",
    "# train_set = train_data.build_full_trainset()\n",
    "# raw_ratings = train_set.build_testset()\n",
    "\n",
    "\n",
    "##MAKING MERGE DATA FRAME\n",
    "# df = pd.read_csv('data_movie_lens_100k/ratings_all_development_set.csv')\n",
    "# user_df = pd.read_csv('data_movie_lens_100k/user_info.csv')\n",
    "# movie_df = pd.read_csv('data_movie_lens_100k/movie_info.csv')\n",
    "# merged_df = pd.merge(df, user_df, on='user_id', how='inner')\n",
    "# merged_df = merged_df.drop(columns=['orig_user_id'])\n",
    "# merged_movie_df = pd.merge(merged_df, movie_df, on='item_id', how='inner')\n",
    "\n",
    "\n",
    "\n",
    "# user_df = pd.read_csv('data_movie_lens_100k/user_info.csv')'\n",
    "# print(merged_movie_df[:100])\n",
    "# data = Dataset.load_from_df(df[['user_id', 'item_id', 'rating']], reader)\n",
    "\n",
    "\n",
    "\n",
    "DATA_PATH = 'data_movie_lens_100k/' # TODO fixme: Path to where dataset csv files live on your system\n",
    "if not os.path.exists(os.path.join(DATA_PATH, 'select_movies.csv')):\n",
    "    try:\n",
    "        DATA_PATH = os.path.join(os.environ.get(\"HOME\", \"\"),\n",
    "                    'courses/cs135-25s-staffonly/proj_src/projB/data_movie_lens_100k/')\n",
    "        assert os.path.exists(os.path.join(DATA_PATH, 'select_movies.csv'))\n",
    "    except AssertionError:\n",
    "        print(\"Please store path to movie_lens_100k dataset in DATA_PATH\")\n",
    "assert os.path.exists(os.path.join(DATA_PATH, 'select_movies.csv'))\n",
    "\n",
    "\n",
    "df_masked = pd.read_csv(\"data_movie_lens_100k/ratings_masked_leaderboard_set.csv\")\n",
    "\n",
    "df_masked['user_id'] = df_masked['user_id'].astype(str)\n",
    "df_masked['item_id'] = df_masked['item_id'].astype(str)\n",
    "df_masked['rating'] = 0\n",
    "\n",
    "\n",
    "# Create a list of (uid, iid) pairs\n",
    "predict_pairs = list(zip(df_masked['user_id'], df_masked['item_id'],df_masked['rating']))\n",
    "\n",
    "\n",
    "dev_set = Dataset.load_from_file(\n",
    "   os.path.join(DATA_PATH, 'ratings_all_development_set.csv'), reader=reader)\n",
    "dev_set_for_fit = dev_set.build_full_trainset()\n",
    "dev_set_for_predict = dev_set_for_fit.build_testset()\n",
    "dev_set_for_fit.global_mean\n",
    "\n",
    "print(\"Global Mean: \", dev_set_for_fit.global_mean)\n"
   ]
  },
  {
   "cell_type": "code",
   "execution_count": null,
   "id": "61039aae",
   "metadata": {},
   "outputs": [],
   "source": [
    "##TRAINING##---------------------------------------\n",
    "\n",
    "\n",
    "\n",
    "# param_grid = {\n",
    "#     # \"n_factors\": [20, 50, 100],        # Latent dimensions (embedding size)\n",
    "#     # \"lr_all\": [0.002, 0.005, 0.01],    # Learning rate for all parameters\n",
    "#     # \"reg_all\": [0.02, 0.05, 0.1],      # Regularization term for all parameters\n",
    "#     # \"n_epochs\": [10, 20, 30]\n",
    "#     \"n_factors\": [100],        # Latent dimensions (embedding size)\n",
    "#     \"lr_all\": [0.01],    # Learning rate for all parameters\n",
    "#     \"reg_all\": [0.1],      # Regularization term for all parameters\n",
    "#     \"n_epochs\": [30]          # Number of SGD iterations\n",
    "# }\n",
    "# model = model_selection.search.RandomizedSearchCV(SVDpp, param_grid, n_iter=1, measures=['mae'], refit=True, n_jobs=-1)\n",
    "# model.fit(dev_set) \n",
    "# print(\"Lowest MAE: \", model.best_score['mae'])\n",
    "# print(\"Best params:\", model.best_params['mae'])\n",
    "# best_model = model.best_estimator['mae']\n",
    "# best_model.fit(dev_set_for_fit)\n",
    "\n",
    "##TRAIN AND FIT\n",
    "# best_model = SVDpp(n_factors=100, lr_all=0.01, reg_all=0.1, n_epochs=30)\n",
    "# best_model.fit(dev_set_for_fit)\n"
   ]
  },
  {
   "cell_type": "code",
   "execution_count": 62,
   "id": "f5da1221",
   "metadata": {},
   "outputs": [
    {
     "name": "stdout",
     "output_type": "stream",
     "text": [
      "None 3.5667103434573733\n",
      "None 4.134996832585336\n",
      "None 3.7888666935126736\n",
      "None 3.6720992658741642\n",
      "None 3.8968649321958186\n",
      "None 4.3203326230059425\n",
      "None 2.175935469500353\n",
      "None 3.8692354968993916\n",
      "None 3.7887285572112375\n",
      "None 3.4842793659510547\n",
      "None 3.7855537153118766\n",
      "None 3.7903893615687245\n",
      "None 3.336980700997417\n",
      "None 4.86406198051976\n",
      "None 3.401681745386318\n",
      "None 2.8788290563805177\n",
      "None 2.729279484504305\n",
      "None 2.9380884287811284\n",
      "None 3.8273759218275765\n",
      "None 3.6171707478948694\n",
      "None 4.301944711322053\n",
      "None 3.3799950999396975\n",
      "None 2.944219982144821\n",
      "None 2.7126847038918402\n",
      "None 2.4807780523026812\n"
     ]
    }
   ],
   "source": [
    "param_grid = {\n",
    "    'k': [30,40,50,60,70],\n",
    "    'sim_options': {\n",
    "        'name': ['cosine', 'pearson', 'pearson_baseline'],\n",
    "        'user_based': [True, False]  # True = user-user, False = item-item\n",
    "    },\n",
    "    'min_k': [1, 3, 5,10,50],\n",
    "    'verbose': [False]\n",
    "}\n",
    "model = model_selection.search.RandomizedSearchCV(KNNWithMeans, param_grid, n_iter=30, measures=['mae'], refit=True, n_jobs=-1)\n",
    "model.fit(dev_set) \n",
    "best_model = model.best_estimator['mae']\n",
    "best_model.fit(dev_set_for_fit)\n",
    "\n",
    "predictions = [best_model.predict(uid, iid) for (uid, iid, _) in predict_pairs]\n",
    "for i in range(25):\n",
    "    print(predictions[i][2],predictions[i][3])"
   ]
  },
  {
   "cell_type": "code",
   "execution_count": 63,
   "id": "b9c3a04a",
   "metadata": {},
   "outputs": [
    {
     "name": "stdout",
     "output_type": "stream",
     "text": [
      "{'mae': 0.7263855473175452}\n",
      "{'mae': {'k': 40, 'sim_options': {'name': 'pearson_baseline', 'user_based': False}, 'min_k': 3, 'verbose': False}}\n",
      "{'split0_test_mae': array([0.74791444, 0.76376255, 0.74457526, 0.73805637, 0.74718819,\n",
      "       0.74667795, 0.73695238, 0.74589699, 0.74834338, 0.74989378,\n",
      "       0.74607514, 0.83203677, 0.76367024, 0.74921287, 0.74599713,\n",
      "       0.74738594, 0.73681715, 0.7297193 , 0.83203677, 0.77777786,\n",
      "       0.82087537, 0.74581448, 0.75708139, 0.7452644 , 0.82087537,\n",
      "       0.7773189 , 0.74676641, 0.76704444, 0.7563249 , 0.73699752]), 'split1_test_mae': array([0.74078509, 0.75907065, 0.74557248, 0.73781048, 0.74123383,\n",
      "       0.74747088, 0.73841388, 0.73915558, 0.74849052, 0.74378835,\n",
      "       0.74577998, 0.83580436, 0.75891014, 0.7515225 , 0.73946133,\n",
      "       0.74758909, 0.73788417, 0.72558219, 0.83580436, 0.77766849,\n",
      "       0.81594008, 0.74549879, 0.75916391, 0.73837662, 0.81594008,\n",
      "       0.77757114, 0.74741821, 0.76090882, 0.75550332, 0.73762723]), 'split2_test_mae': array([0.74414693, 0.76126607, 0.74368313, 0.73942074, 0.74653863,\n",
      "       0.74931149, 0.73843324, 0.74301672, 0.75049146, 0.74855547,\n",
      "       0.74476941, 0.83825226, 0.76090324, 0.75145833, 0.74366063,\n",
      "       0.75101894, 0.73866553, 0.7290608 , 0.83825226, 0.7800444 ,\n",
      "       0.82230084, 0.74443834, 0.75945484, 0.7426438 , 0.82230084,\n",
      "       0.77969366, 0.74935185, 0.76435988, 0.7582177 , 0.73863737]), 'split3_test_mae': array([0.7433048 , 0.75924568, 0.74274305, 0.73844082, 0.74416795,\n",
      "       0.74629712, 0.73736932, 0.7423338 , 0.74724159, 0.7462429 ,\n",
      "       0.74365844, 0.84122814, 0.75885722, 0.75007854, 0.74202793,\n",
      "       0.74720417, 0.7378986 , 0.72728307, 0.84122814, 0.78450193,\n",
      "       0.81782673, 0.74328527, 0.75848314, 0.7414417 , 0.81782673,\n",
      "       0.78426409, 0.74627193, 0.76190415, 0.75472639, 0.73806468]), 'split4_test_mae': array([0.73414956, 0.75604605, 0.73544356, 0.72940558, 0.73681753,\n",
      "       0.73995751, 0.72937646, 0.73244677, 0.74148524, 0.73778141,\n",
      "       0.73682603, 0.83335809, 0.75570653, 0.74341842, 0.73271624,\n",
      "       0.74042544, 0.72845871, 0.72028238, 0.83335809, 0.77314443,\n",
      "       0.81780606, 0.73639043, 0.75040696, 0.73204166, 0.81780606,\n",
      "       0.77274304, 0.74012253, 0.75926135, 0.74883197, 0.72877089]), 'mean_test_mae': array([0.74206017, 0.7598782 , 0.74240349, 0.7366268 , 0.74318923,\n",
      "       0.74594299, 0.73610906, 0.74056997, 0.74721044, 0.74525238,\n",
      "       0.7434218 , 0.83613592, 0.75960947, 0.74913813, 0.74077265,\n",
      "       0.74672472, 0.73594483, 0.72638555, 0.83613592, 0.77862742,\n",
      "       0.81894982, 0.74308546, 0.75691805, 0.73995364, 0.81894982,\n",
      "       0.77831817, 0.74598619, 0.76269573, 0.75472086, 0.73601954]), 'std_test_mae': array([0.00456902, 0.00255937, 0.00360423, 0.00365206, 0.00381025,\n",
      "       0.00316774, 0.00341589, 0.00459264, 0.00304848, 0.00427534,\n",
      "       0.00340522, 0.0033178 , 0.00262494, 0.0029891 , 0.00455712,\n",
      "       0.00345067, 0.00378902, 0.00337552, 0.0033178 , 0.00369384,\n",
      "       0.002305  , 0.0034631 , 0.00335707, 0.00453303, 0.002305  ,\n",
      "       0.00373857, 0.00311292, 0.00273113, 0.00316519, 0.00366387]), 'rank_test_mae': array([ 9, 23, 10,  5, 12, 15,  4,  7, 18, 14, 13, 29, 22, 19,  8, 17,  2,\n",
      "        1, 30, 26, 27, 11, 21,  6, 28, 25, 16, 24, 20,  3]), 'mean_fit_time': array([1.65361104, 1.97351623, 1.29164281, 0.99249258, 1.348386  ,\n",
      "       1.18737402, 0.66872306, 1.4297276 , 1.41638012, 1.05146079,\n",
      "       0.73658233, 1.13313789, 1.02746372, 0.84063263, 1.70057926,\n",
      "       1.27728124, 0.89757357, 1.15961447, 0.92980933, 0.89944167,\n",
      "       1.0913341 , 1.17787266, 0.98268003, 1.27736421, 1.8651403 ,\n",
      "       1.15698924, 0.80304565, 1.68269591, 1.15558658, 0.73700857]), 'std_fit_time': array([0.21645716, 0.04499627, 0.17917589, 0.11149854, 0.058875  ,\n",
      "       0.11559388, 0.11746251, 0.32568434, 0.02997444, 0.24123538,\n",
      "       0.14366925, 0.04657558, 0.05755818, 0.22309816, 0.15526693,\n",
      "       0.09642061, 0.15523307, 0.14733186, 0.01813828, 0.09735926,\n",
      "       0.17842428, 0.02780197, 0.06563149, 0.12902074, 0.05578786,\n",
      "       0.19416811, 0.10206277, 0.11110613, 0.10475582, 0.14961763]), 'mean_test_time': array([4.63614531, 4.86374898, 3.07659397, 3.98656926, 4.37984452,\n",
      "       3.77904892, 4.04639711, 4.99780626, 3.75167475, 4.24791574,\n",
      "       4.21213627, 3.71965289, 5.27882681, 4.92874441, 5.17537961,\n",
      "       4.39901285, 3.73060865, 4.64834771, 3.83729362, 4.70541387,\n",
      "       4.65535483, 4.87296786, 5.36135149, 5.98193655, 4.87417173,\n",
      "       4.45723338, 4.62524242, 4.9460557 , 4.49548178, 3.56435165]), 'std_test_time': array([0.07924827, 0.06582834, 0.03017925, 0.03657362, 0.07489377,\n",
      "       0.03819705, 0.40374451, 0.10500614, 0.10804952, 0.03890609,\n",
      "       0.02614798, 0.11569473, 0.06080636, 0.08163053, 0.03217458,\n",
      "       0.1016973 , 0.0386064 , 0.04094317, 0.0092427 , 0.05688909,\n",
      "       0.02416832, 0.01935517, 0.03535485, 0.05777727, 0.05798285,\n",
      "       0.0285441 , 0.07035657, 0.15696484, 0.07115027, 0.52974404]), 'params': array([{'k': 50, 'sim_options': {'name': 'pearson', 'user_based': False}, 'min_k': 10, 'verbose': False},\n",
      "       {'k': 70, 'sim_options': {'name': 'pearson_baseline', 'user_based': False}, 'min_k': 50, 'verbose': False},\n",
      "       {'k': 30, 'sim_options': {'name': 'pearson_baseline', 'user_based': True}, 'min_k': 10, 'verbose': False},\n",
      "       {'k': 60, 'sim_options': {'name': 'pearson_baseline', 'user_based': True}, 'min_k': 1, 'verbose': False},\n",
      "       {'k': 60, 'sim_options': {'name': 'cosine', 'user_based': False}, 'min_k': 1, 'verbose': False},\n",
      "       {'k': 70, 'sim_options': {'name': 'pearson', 'user_based': True}, 'min_k': 3, 'verbose': False},\n",
      "       {'k': 60, 'sim_options': {'name': 'pearson_baseline', 'user_based': True}, 'min_k': 3, 'verbose': False},\n",
      "       {'k': 60, 'sim_options': {'name': 'pearson', 'user_based': False}, 'min_k': 5, 'verbose': False},\n",
      "       {'k': 40, 'sim_options': {'name': 'pearson', 'user_based': True}, 'min_k': 3, 'verbose': False},\n",
      "       {'k': 40, 'sim_options': {'name': 'cosine', 'user_based': False}, 'min_k': 1, 'verbose': False},\n",
      "       {'k': 70, 'sim_options': {'name': 'pearson_baseline', 'user_based': True}, 'min_k': 10, 'verbose': False},\n",
      "       {'k': 40, 'sim_options': {'name': 'pearson', 'user_based': True}, 'min_k': 50, 'verbose': False},\n",
      "       {'k': 60, 'sim_options': {'name': 'pearson_baseline', 'user_based': False}, 'min_k': 50, 'verbose': False},\n",
      "       {'k': 60, 'sim_options': {'name': 'pearson', 'user_based': True}, 'min_k': 10, 'verbose': False},\n",
      "       {'k': 50, 'sim_options': {'name': 'pearson', 'user_based': False}, 'min_k': 1, 'verbose': False},\n",
      "       {'k': 50, 'sim_options': {'name': 'pearson', 'user_based': True}, 'min_k': 1, 'verbose': False},\n",
      "       {'k': 30, 'sim_options': {'name': 'pearson_baseline', 'user_based': True}, 'min_k': 1, 'verbose': False},\n",
      "       {'k': 40, 'sim_options': {'name': 'pearson_baseline', 'user_based': False}, 'min_k': 3, 'verbose': False},\n",
      "       {'k': 30, 'sim_options': {'name': 'cosine', 'user_based': True}, 'min_k': 50, 'verbose': False},\n",
      "       {'k': 60, 'sim_options': {'name': 'pearson_baseline', 'user_based': True}, 'min_k': 50, 'verbose': False},\n",
      "       {'k': 30, 'sim_options': {'name': 'pearson_baseline', 'user_based': False}, 'min_k': 50, 'verbose': False},\n",
      "       {'k': 60, 'sim_options': {'name': 'pearson_baseline', 'user_based': True}, 'min_k': 10, 'verbose': False},\n",
      "       {'k': 70, 'sim_options': {'name': 'cosine', 'user_based': True}, 'min_k': 10, 'verbose': False},\n",
      "       {'k': 70, 'sim_options': {'name': 'pearson', 'user_based': False}, 'min_k': 3, 'verbose': False},\n",
      "       {'k': 40, 'sim_options': {'name': 'pearson', 'user_based': False}, 'min_k': 50, 'verbose': False},\n",
      "       {'k': 50, 'sim_options': {'name': 'pearson_baseline', 'user_based': True}, 'min_k': 50, 'verbose': False},\n",
      "       {'k': 60, 'sim_options': {'name': 'pearson', 'user_based': True}, 'min_k': 3, 'verbose': False},\n",
      "       {'k': 60, 'sim_options': {'name': 'pearson', 'user_based': False}, 'min_k': 50, 'verbose': False},\n",
      "       {'k': 60, 'sim_options': {'name': 'cosine', 'user_based': True}, 'min_k': 1, 'verbose': False},\n",
      "       {'k': 40, 'sim_options': {'name': 'pearson_baseline', 'user_based': True}, 'min_k': 1, 'verbose': False}],\n",
      "      dtype=object), 'param_k': [50, 70, 30, 60, 60, 70, 60, 60, 40, 40, 70, 40, 60, 60, 50, 50, 30, 40, 30, 60, 30, 60, 70, 70, 40, 50, 60, 60, 60, 40], 'param_sim_options': [{'name': 'pearson', 'user_based': False}, {'name': 'pearson_baseline', 'user_based': False}, {'name': 'pearson_baseline', 'user_based': True}, {'name': 'pearson_baseline', 'user_based': True}, {'name': 'cosine', 'user_based': False}, {'name': 'pearson', 'user_based': True}, {'name': 'pearson_baseline', 'user_based': True}, {'name': 'pearson', 'user_based': False}, {'name': 'pearson', 'user_based': True}, {'name': 'cosine', 'user_based': False}, {'name': 'pearson_baseline', 'user_based': True}, {'name': 'pearson', 'user_based': True}, {'name': 'pearson_baseline', 'user_based': False}, {'name': 'pearson', 'user_based': True}, {'name': 'pearson', 'user_based': False}, {'name': 'pearson', 'user_based': True}, {'name': 'pearson_baseline', 'user_based': True}, {'name': 'pearson_baseline', 'user_based': False}, {'name': 'cosine', 'user_based': True}, {'name': 'pearson_baseline', 'user_based': True}, {'name': 'pearson_baseline', 'user_based': False}, {'name': 'pearson_baseline', 'user_based': True}, {'name': 'cosine', 'user_based': True}, {'name': 'pearson', 'user_based': False}, {'name': 'pearson', 'user_based': False}, {'name': 'pearson_baseline', 'user_based': True}, {'name': 'pearson', 'user_based': True}, {'name': 'pearson', 'user_based': False}, {'name': 'cosine', 'user_based': True}, {'name': 'pearson_baseline', 'user_based': True}], 'param_min_k': [10, 50, 10, 1, 1, 3, 3, 5, 3, 1, 10, 50, 50, 10, 1, 1, 1, 3, 50, 50, 50, 10, 10, 3, 50, 50, 3, 50, 1, 1], 'param_verbose': [False, False, False, False, False, False, False, False, False, False, False, False, False, False, False, False, False, False, False, False, False, False, False, False, False, False, False, False, False, False]}\n"
     ]
    }
   ],
   "source": [
    "##KNNBasic\n",
    "print(model.best_score)\n",
    "print(model.best_params)\n",
    "\n",
    "print(model.cv_results)\n"
   ]
  },
  {
   "cell_type": "code",
   "execution_count": 19,
   "id": "de704a12",
   "metadata": {},
   "outputs": [
    {
     "name": "stdout",
     "output_type": "stream",
     "text": [
      "{'mae': 0.728028974844136}\n"
     ]
    }
   ],
   "source": [
    "##KNNWITHZSCORE\n",
    "print(model.best_score)"
   ]
  },
  {
   "cell_type": "code",
   "execution_count": 21,
   "id": "c9a99dfc",
   "metadata": {},
   "outputs": [
    {
     "name": "stdout",
     "output_type": "stream",
     "text": [
      "{'mae': 0.7258303388876878}\n"
     ]
    }
   ],
   "source": [
    "##KNNWITHMEAN\n",
    "print(model.best_score)"
   ]
  },
  {
   "cell_type": "code",
   "execution_count": null,
   "id": "17ac604e",
   "metadata": {},
   "outputs": [],
   "source": [
    "ratings_only = [pred[3] for pred in predictions]  # extract just the ratings\n",
    "ratings_only = np.array(ratings_only, dtype=float)\n",
    "np.savetxt(\"predicted_ratings_leaderboard.txt\", ratings_only, fmt=\"%.6f\")\n"
   ]
  }
 ],
 "metadata": {
  "kernelspec": {
   "display_name": "Python 3 (ipykernel)",
   "language": "python",
   "name": "python3"
  },
  "language_info": {
   "codemirror_mode": {
    "name": "ipython",
    "version": 3
   },
   "file_extension": ".py",
   "mimetype": "text/x-python",
   "name": "python",
   "nbconvert_exporter": "python",
   "pygments_lexer": "ipython3",
   "version": "3.11.11"
  }
 },
 "nbformat": 4,
 "nbformat_minor": 5
}
