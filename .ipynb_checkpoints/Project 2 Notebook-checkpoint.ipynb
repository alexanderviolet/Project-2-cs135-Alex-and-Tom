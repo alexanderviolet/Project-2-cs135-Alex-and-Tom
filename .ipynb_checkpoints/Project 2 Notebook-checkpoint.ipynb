{
 "cells": [
  {
   "cell_type": "code",
   "execution_count": null,
   "id": "9c86c0e9",
   "metadata": {},
   "outputs": [],
   "source": [
    "# Tom and Alex Violet Project 2\n",
    "# April 13, 2025\n",
    "import CollabFilterOneVecyorPerItem "
   ]
  },
  {
   "cell_type": "code",
   "execution_count": null,
   "id": "affbe373",
   "metadata": {},
   "outputs": [],
   "source": [
    "# For testing: see if init prints the array of the correct shape\n",
    "CollabFilterOneVecyorPerItem tester"
   ]
  },
  {
   "cell_type": "markdown",
   "id": "b6632346",
   "metadata": {},
   "source": []
  }
 ],
 "metadata": {
  "kernelspec": {
   "display_name": "Python 3 (ipykernel)",
   "language": "python",
   "name": "python3"
  },
  "language_info": {
   "codemirror_mode": {
    "name": "ipython",
    "version": 3
   },
   "file_extension": ".py",
   "mimetype": "text/x-python",
   "name": "python",
   "nbconvert_exporter": "python",
   "pygments_lexer": "ipython3",
   "version": "3.11.11"
  }
 },
 "nbformat": 4,
 "nbformat_minor": 5
}
